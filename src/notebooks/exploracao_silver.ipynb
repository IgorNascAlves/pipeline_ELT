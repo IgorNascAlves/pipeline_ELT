{
 "cells": [
  {
   "cell_type": "code",
   "execution_count": 24,
   "metadata": {},
   "outputs": [],
   "source": [
    "from pyspark.sql import SparkSession"
   ]
  },
  {
   "cell_type": "code",
   "execution_count": 25,
   "metadata": {},
   "outputs": [],
   "source": [
    "spark = SparkSession\\\n",
    "    .builder\\\n",
    "    .appName(\"twitter_transformation\")\\\n",
    "    .getOrCreate()"
   ]
  },
  {
   "cell_type": "code",
   "execution_count": 26,
   "metadata": {},
   "outputs": [],
   "source": [
    "user = \"NBABrasil\""
   ]
  },
  {
   "cell_type": "code",
   "execution_count": 27,
   "metadata": {},
   "outputs": [],
   "source": [
    "df_users = spark.read.json(\"../../datalake/Silver/twitter_nbabrasil/user\")"
   ]
  },
  {
   "cell_type": "code",
   "execution_count": 28,
   "metadata": {},
   "outputs": [
    {
     "data": {
      "text/plain": [
       "'589433710'"
      ]
     },
     "execution_count": 28,
     "metadata": {},
     "output_type": "execute_result"
    }
   ],
   "source": [
    "user_id = df_users.filter(f'username = \"{user}\"').select(\"id\").first()[0]\n",
    "user_id"
   ]
  },
  {
   "cell_type": "code",
   "execution_count": 29,
   "metadata": {},
   "outputs": [],
   "source": [
    "df_tweet = spark.read.json(\"../../datalake/Silver/twitter_nbabrasil/tweet\")"
   ]
  },
  {
   "cell_type": "code",
   "execution_count": 30,
   "metadata": {},
   "outputs": [],
   "source": [
    "nba_brasil = df_tweet\\\n",
    "        .where(f\"author_id = '{user_id}'\")\\\n",
    "        .select(\"author_id\", \"conversation_id\")"
   ]
  },
  {
   "cell_type": "code",
   "execution_count": 31,
   "metadata": {},
   "outputs": [],
   "source": [
    "from pyspark.sql.functions import when, col, sum, to_date, date_format, countDistinct"
   ]
  },
  {
   "cell_type": "code",
   "execution_count": 32,
   "metadata": {},
   "outputs": [],
   "source": [
    "tweet_conversas = df_tweet.alias(\"tweet\")\\\n",
    "        .join(\n",
    "            nba_brasil.alias(\"nba_brasil\"),\n",
    "            [\n",
    "                nba_brasil.author_id != df_tweet.author_id,\n",
    "                nba_brasil.conversation_id == df_tweet.conversation_id\n",
    "            ],\n",
    "            'left')\\\n",
    "        .withColumn(\n",
    "            \"nba_brasil_conversation\",\n",
    "            when(col(\"nba_brasil.conversation_id\").isNotNull(), 1).otherwise(0)\n",
    "        ).withColumn(\n",
    "            \"reply_nba_brasil\",\n",
    "            when(col(\"tweet.in_reply_to_user_id\") == user_id, 1).otherwise(0)\n",
    "        ).groupBy(to_date(\"created_at\").alias(\"created_date\"))\\\n",
    "        .agg(\n",
    "            countDistinct(\"id\").alias(\"n_tweets\"),\n",
    "            countDistinct(\"tweet.conversation_id\").alias(\"n_conversation\"),\n",
    "            sum(\"nba_brasil_conversation\").alias(\"nba_brasil_conversation\"),\n",
    "            sum(\"reply_nba_brasil\").alias(\"reply_alura\")\n",
    "        ).withColumn(\"weekday\", date_format(\"created_date\", \"E\"))"
   ]
  },
  {
   "cell_type": "code",
   "execution_count": 34,
   "metadata": {},
   "outputs": [
    {
     "name": "stdout",
     "output_type": "stream",
     "text": [
      "+------------+--------+--------------+-----------------------+-----------+-------+\n",
      "|created_date|n_tweets|n_conversation|nba_brasil_conversation|reply_alura|weekday|\n",
      "+------------+--------+--------------+-----------------------+-----------+-------+\n",
      "|  2022-08-10|     137|           104|                     32|         36|    Wed|\n",
      "|  2022-08-11|     226|           157|                     69|         56|    Thu|\n",
      "|  2022-08-12|     116|           110|                      7|          9|    Fri|\n",
      "|  2022-08-13|      50|            42|                      8|         10|    Sat|\n",
      "|  2022-08-14|     170|           148|                      9|         15|    Sun|\n",
      "|  2022-08-15|     390|           275|                    384|        206|    Mon|\n",
      "|  2022-08-16|     265|           222|                    140|         93|    Tue|\n",
      "|  2022-08-17|     266|           216|                    478|        378|    Wed|\n",
      "|  2022-08-18|     184|           160|                     75|         62|    Thu|\n",
      "|  2022-08-19|     140|            95|                     44|         40|    Fri|\n",
      "|  2022-08-20|      93|            78|                     16|         15|    Sat|\n",
      "|  2022-08-21|      84|            77|                      4|          6|    Sun|\n",
      "+------------+--------+--------------+-----------------------+-----------+-------+\n",
      "\n"
     ]
    }
   ],
   "source": [
    "tweet_conversas.orderBy(\"created_date\").show()"
   ]
  }
 ],
 "metadata": {
  "kernelspec": {
   "display_name": "Python 3.9.13 ('venv': venv)",
   "language": "python",
   "name": "python3"
  },
  "language_info": {
   "codemirror_mode": {
    "name": "ipython",
    "version": 3
   },
   "file_extension": ".py",
   "mimetype": "text/x-python",
   "name": "python",
   "nbconvert_exporter": "python",
   "pygments_lexer": "ipython3",
   "version": "3.9.13"
  },
  "orig_nbformat": 4,
  "vscode": {
   "interpreter": {
    "hash": "e35e8fb286b66651044cd4ea5ee6aca4caa9211c19cbacfec582ac3fd6c28772"
   }
  }
 },
 "nbformat": 4,
 "nbformat_minor": 2
}
