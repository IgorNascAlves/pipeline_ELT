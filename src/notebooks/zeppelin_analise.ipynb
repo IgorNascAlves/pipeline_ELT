﻿{
  "metadata": {
    "name": "Note converted from Jupyter_2HDZ7HDWN",
    "kernelspec": {
      "language": "scala",
      "name": "spark2-scala"
    },
    "language_info": {
      "codemirror_mode": "text/x-scala",
      "file_extension": ".scala",
      "mimetype": "text/x-scala",
      "name": "scala",
      "pygments_lexer": "scala"
    }
  },
  "nbformat": 4,
  "nbformat_minor": 2,
  "cells": [
    {
      "cell_type": "code",
      "execution_count": 0,
      "metadata": {
        "autoscroll": "auto"
      },
      "outputs": [],
      "source": "%spark.ipyspark\ndf \u003d spark.read.json(\"/home/curso/Documents/pipeline_ELT/datalake/Gold/twitter_nbabrasil\")\nz.show(df)"
    },
    {
      "cell_type": "code",
      "execution_count": 1,
      "metadata": {
        "autoscroll": "auto"
      },
      "outputs": [],
      "source": "%spark.ipyspark\n"
    }
  ]
}